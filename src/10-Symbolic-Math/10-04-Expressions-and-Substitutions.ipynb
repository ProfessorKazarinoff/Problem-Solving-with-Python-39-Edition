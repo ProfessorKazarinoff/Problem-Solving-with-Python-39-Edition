{
 "cells": [
  {
   "cell_type": "markdown",
   "metadata": {},
   "source": [
    "## Expressions and Substitutions"
   ]
  },
  {
   "cell_type": "code",
   "execution_count": 1,
   "metadata": {
    "latex": {
     "environment": "comment"
    }
   },
   "outputs": [
    {
     "ename": "ModuleNotFoundError",
     "evalue": "No module named 'sympy'",
     "output_type": "error",
     "traceback": [
      "\u001b[1;31m---------------------------------------------------------------------------\u001b[0m",
      "\u001b[1;31mModuleNotFoundError\u001b[0m                       Traceback (most recent call last)",
      "\u001b[1;32m<ipython-input-1-86aabf953ce6>\u001b[0m in \u001b[0;36m<module>\u001b[1;34m\u001b[0m\n\u001b[1;32m----> 1\u001b[1;33m \u001b[1;32mfrom\u001b[0m \u001b[0msympy\u001b[0m \u001b[1;32mimport\u001b[0m \u001b[0minit_session\u001b[0m\u001b[1;33m\u001b[0m\u001b[1;33m\u001b[0m\u001b[0m\n\u001b[0m\u001b[0;32m      2\u001b[0m \u001b[0minit_session\u001b[0m\u001b[1;33m(\u001b[0m\u001b[0mpretty_print\u001b[0m\u001b[1;33m=\u001b[0m\u001b[1;32mFalse\u001b[0m\u001b[1;33m,\u001b[0m \u001b[0mquiet\u001b[0m\u001b[1;33m=\u001b[0m\u001b[1;32mTrue\u001b[0m\u001b[1;33m)\u001b[0m\u001b[1;33m\u001b[0m\u001b[1;33m\u001b[0m\u001b[0m\n",
      "\u001b[1;31mModuleNotFoundError\u001b[0m: No module named 'sympy'"
     ]
    }
   ],
   "source": [
    "from sympy import init_session\n",
    "init_session(pretty_print=False, quiet=True)"
   ]
  },
  {
   "cell_type": "markdown",
   "metadata": {},
   "source": [
    "Symbolic math variables can be combined into symbolic math expressions. Once in an expression, symbolic math variables can be exchanged with substitution."
   ]
  },
  {
   "cell_type": "markdown",
   "metadata": {},
   "source": [
    "### Expressions"
   ]
  },
  {
   "cell_type": "markdown",
   "metadata": {},
   "source": [
    "A symbolic math expression is a combination of symbolic math variables with numbers and mathematical operators such as ```+```, ```-```, ```/```, and ```*```. The standard Python rules for calculating numbers apply in SymPy symbolic math expressions.\n",
    "\n",
    "After the symbols ```x``` and ```y``` are created, a symbolic math expression using ```x``` and ```y``` can be defined."
   ]
  },
  {
   "cell_type": "code",
   "execution_count": null,
   "metadata": {},
   "outputs": [],
   "source": [
    "from sympy import symbols\n",
    "\n",
    "x, y = symbols('x y')\n",
    "expr = 2*x + y"
   ]
  },
  {
   "cell_type": "markdown",
   "metadata": {},
   "source": [
    "Symbolic math variables can be exchanged for other variables or expressions using substitution."
   ]
  },
  {
   "cell_type": "markdown",
   "metadata": {},
   "source": [
    "### Substitution"
   ]
  },
  {
   "cell_type": "markdown",
   "metadata": {},
   "source": [
    "Use SymPy's ```.subs()``` method to insert a numerical value into a symbolic math expression. The first argument of the ```.subs()``` method is the mathematical symbol and the second argument is the numerical value. In the expression below:\n",
    "\n",
    "$$ 2x + y $$\n",
    "\n",
    "If we substitute:\n",
    "\n",
    "$$ x = 2 $$\n",
    "\n",
    "The resulting expression is:\n",
    "\n",
    "$$ 2(2) + y $$\n",
    "\n",
    "$$ 4 + y $$\n",
    "\n",
    "We can code the substitution above using SymPy's ```.subs()``` method as shown below."
   ]
  },
  {
   "cell_type": "code",
   "execution_count": null,
   "metadata": {},
   "outputs": [],
   "source": [
    "expr.subs(x, 2)"
   ]
  },
  {
   "cell_type": "markdown",
   "metadata": {},
   "source": [
    "The ```.subs()``` method does not replace variables in place, ```.subs()``` only completes a one-time substitution. If ```expr``` is called after the ```.subs()``` method is applied, the original ```expr``` expression is returned."
   ]
  },
  {
   "cell_type": "code",
   "execution_count": null,
   "metadata": {},
   "outputs": [],
   "source": [
    "expr"
   ]
  },
  {
   "cell_type": "markdown",
   "metadata": {},
   "source": [
    "To make the substitution permanent, a new expression object needs to be assigned to the output of the ```.subs()``` method."
   ]
  },
  {
   "cell_type": "code",
   "execution_count": null,
   "metadata": {},
   "outputs": [],
   "source": [
    "expr = 2*x + y\n",
    "expr2 = expr.subs(x, 2)\n",
    "expr2"
   ]
  },
  {
   "cell_type": "markdown",
   "metadata": {},
   "source": [
    "SymPy variables can also be substituted into SymPy expressions. In the code section below, the symbol $z$ is substituted for the symbol $x$ ($z$ replaces $x$)."
   ]
  },
  {
   "cell_type": "code",
   "execution_count": null,
   "metadata": {},
   "outputs": [],
   "source": [
    "x, y, z = symbols('x y z')\n",
    "expr = 2*x + y\n",
    "expr2 = expr.subs(x, z)\n",
    "expr2"
   ]
  },
  {
   "cell_type": "markdown",
   "metadata": {},
   "source": [
    "Expressions can also be substituted into other expressions. \n",
    "\n",
    "Consider the following symbolic math expression:\n",
    "\n",
    "$$ y + 2x^2 + z^{-3} $$\n",
    "\n",
    "We can substitute in the expression:\n",
    "\n",
    "$$ y = 2x $$\n",
    "\n",
    "Which results in:\n",
    "\n",
    "$$ 2x + 2x^2 + z^{-3} $$\n",
    "\n",
    "Let's try this same operation with code."
   ]
  },
  {
   "cell_type": "code",
   "execution_count": null,
   "metadata": {},
   "outputs": [],
   "source": [
    "x, y, z = symbols('x y z')\n",
    "expr = y + 2*x**2 + z**(-3)\n",
    "expr2 = expr.subs(y, 2*x)\n",
    "expr2"
   ]
  },
  {
   "cell_type": "markdown",
   "metadata": {},
   "source": [
    "#### Worked Example\n",
    "\n",
    "A practical example involving symbolic math variables, expressions, and substitutions can include a complex expression and several replacements.\n",
    "\n",
    "$$ n_0e^{-Q_v/RT} $$\n",
    "\n",
    "$$ n_0 = 3.48 \\times 10^{-6} $$\n",
    "\n",
    "$$ Q_v = 12,700 $$\n",
    "\n",
    "$$ R = 8.31 $$\n",
    "\n",
    "$$ T = 1000 + 273 $$\n",
    "\n",
    "We can create four symbolic math variables and combine the variables into an expression with the code below. Note how four symbolic math variables were assigned in one line of code."
   ]
  },
  {
   "cell_type": "code",
   "execution_count": null,
   "metadata": {},
   "outputs": [],
   "source": [
    "from sympy import symbols, exp\n",
    "n0, Qv, R, T = symbols('n0 Qv R T')\n",
    "expr = n0*exp(-Qv/(R*T))"
   ]
  },
  {
   "cell_type": "markdown",
   "metadata": {},
   "source": [
    "Multiple SymPy ```subs()``` methods can be chained together to substitute multiple variables in one line of code."
   ]
  },
  {
   "cell_type": "code",
   "execution_count": null,
   "metadata": {},
   "outputs": [],
   "source": [
    "expr.subs(n0, 3.48e-6).subs(Qv,12700).subs(R, 8.31).subs(T, 1000+273)"
   ]
  },
  {
   "cell_type": "markdown",
   "metadata": {},
   "source": [
    "To evaluate an expression as a floating-point number, use SymPy's ```.evalf()``` method."
   ]
  },
  {
   "cell_type": "code",
   "execution_count": null,
   "metadata": {},
   "outputs": [],
   "source": [
    "expr2 = expr.subs(n0, 3.48e-6).subs(Qv,12700).subs(R, 8.31).subs(T, 1000+273)\n",
    "expr2.evalf()"
   ]
  },
  {
   "cell_type": "markdown",
   "metadata": {},
   "source": [
    "You can control the number of digits the ```.evalf()``` method outputs by passing a number as an argument. Let's represent our final answer as four digits:"
   ]
  },
  {
   "cell_type": "code",
   "execution_count": null,
   "metadata": {},
   "outputs": [],
   "source": [
    "expr2.evalf(4)"
   ]
  },
  {
   "cell_type": "markdown",
   "metadata": {},
   "source": [
    "### Summary"
   ]
  },
  {
   "cell_type": "markdown",
   "metadata": {},
   "source": [
    "The SymPy functions and methods used in this section are summarized in the table below.\n",
    "\n",
    "| SymPy function or method | Description | Example |\n",
    "| --- | --- | --- |\n",
    "| ```symbols()``` | create symbolic math variables | ```x, y = symbols('x y')``` |\n",
    "| ```.subs()``` | substitute a value into a symbolic math expression | ```expr.subs(x,2)``` |\n",
    "| ```.evalf()``` | evaluate a symbolic math expression as a floating point number | ```expr.evalf(4)``` |\n",
    "\n",
    "."
   ]
  }
 ],
 "metadata": {
  "celltoolbar": "Edit Metadata",
  "kernelspec": {
   "display_name": "Python 3",
   "language": "python",
   "name": "python3"
  },
  "language_info": {
   "codemirror_mode": {
    "name": "ipython",
    "version": 3
   },
   "file_extension": ".py",
   "mimetype": "text/x-python",
   "name": "python",
   "nbconvert_exporter": "python",
   "pygments_lexer": "ipython3",
   "version": "3.9.4"
  }
 },
 "nbformat": 4,
 "nbformat_minor": 2
}
